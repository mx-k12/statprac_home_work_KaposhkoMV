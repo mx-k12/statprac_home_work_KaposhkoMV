{
 "cells": [
  {
   "cell_type": "markdown",
   "metadata": {},
   "source": [
    "№1\n",
    "Создаем список в одну строчку с условием"
   ]
  },
  {
   "cell_type": "markdown",
   "metadata": {},
   "source": [
    "## Problem 1"
   ]
  },
  {
   "cell_type": "markdown",
   "metadata": {},
   "source": [
    "Make a tuple containing natural numbers, the square of which is a multiple of 3, 4, but not a multiple of 8 and not exceeding 12345."
   ]
  },
  {
   "cell_type": "code",
   "execution_count": null,
   "metadata": {},
   "outputs": [],
   "source": [
    "nat_num = [i for i in range(12346) if pow(i,2) % 3 == 0 and pow(i,2) % 4 == 0 and pow(i,2) % 8 != 0]\n",
    "print(nat_num)"
   ]
  },
  {
   "cell_type": "markdown",
   "metadata": {},
   "source": [
    "## Problem 2"
   ]
  },
  {
   "cell_type": "markdown",
   "metadata": {},
   "source": [
    "\n",
    "Write a function that takes a two-dimensional array and a string as input and returns an array rotated 90 degrees counterclockwise if the string 'left' was passed, and clockwise if the string 'right' was passed.\n",
    "\n",
    "Example for input: $\\begin{bmatrix} 1 & 2 & 3 \\\\ 4 & 5 & 6 \\\\ 7 & 8 & 9 \\end{bmatrix}$.\\\n",
    "If the string 'left' is passed, the function should return $\\begin{bmatrix} 3 & 6 & 9 \\\\ 2 & 5 & 8 \\\\ 1 & 4 & 7 \\end{bmatrix}$, and if the string 'right' is passed, the function should return $\\begin{bmatrix} 7 & 4 & 1 \\\\ 8 & 5 & 2 \\\\ 9 & 6 & 3 \\end{bmatrix}$."
   ]
  },
  {
   "cell_type": "markdown",
   "metadata": {},
   "source": [
    "№2\n",
    "left: столбцы делаем строками\n",
    "right: столбцы делаем строками + переворачиваем"
   ]
  },
  {
   "cell_type": "code",
   "execution_count": 9,
   "metadata": {},
   "outputs": [
    {
     "name": "stdout",
     "output_type": "stream",
     "text": [
      "[[3, 6, 9], [2, 5, 8], [1, 4, 7]]\n",
      "[[7, 4, 1], [8, 5, 2], [9, 6, 3]]\n"
     ]
    }
   ],
   "source": [
    "def rotate(a, side):\n",
    "    n = len(a)\n",
    "    b = [[0 for i in range(n)] for j in range(n)]\n",
    "    for i in range(n):\n",
    "        for j in range(n):\n",
    "            if side == 'left':\n",
    "                b[i][j] = a[j][n-i-1]\n",
    "            elif side == 'right':\n",
    "                b[i][j] = a[n-j-1][i]\n",
    "            \n",
    "    return b\n",
    "\n",
    "#check\n",
    "a = [[1,2,3], [4,5,6], [7,8,9]]\n",
    "print(rotate(a, 'left'))\n",
    "print(rotate(a, 'right'))\n"
   ]
  },
  {
   "cell_type": "markdown",
   "metadata": {},
   "source": [
    "№3\n",
    "проход по каждому символу и проверка на принадлежность словарю"
   ]
  },
  {
   "cell_type": "markdown",
   "metadata": {},
   "source": [
    "## Problem 3"
   ]
  },
  {
   "cell_type": "markdown",
   "metadata": {},
   "source": [
    "Write a function that takes a string as input and returns a dictionary containing the number of occurrences of each character in the string.\n",
    "\n",
    "Example for the string 'hello, world!': {'h': 1, 'e': 1, 'l': 3, 'o': 2, ',': 1, ' ': 1, 'w': 1, 'r': 1, 'd': 1, '!': 1}."
   ]
  },
  {
   "cell_type": "code",
   "execution_count": 11,
   "metadata": {},
   "outputs": [
    {
     "name": "stdout",
     "output_type": "stream",
     "text": [
      "{'h': 1, 'e': 1, 'l': 3, 'o': 2, ',': 1, ' ': 1, 'w': 1, 'r': 1, 'd': 1, '!': 1}\n"
     ]
    }
   ],
   "source": [
    "def func(string):\n",
    "    dict = {}\n",
    "    for i in string:\n",
    "        if i in dict:\n",
    "            dict[i] += 1\n",
    "        else:\n",
    "            dict[i] = 1\n",
    "    return dict\n",
    "\n",
    "#check\n",
    "a = 'hello, world!'\n",
    "print(func(a))"
   ]
  },
  {
   "cell_type": "markdown",
   "metadata": {},
   "source": [
    "№4\n",
    "создание классов и пример использования "
   ]
  },
  {
   "cell_type": "markdown",
   "metadata": {},
   "source": [
    "## Problem 4"
   ]
  },
  {
   "cell_type": "markdown",
   "metadata": {},
   "source": [
    "### Implementing a Library Management System\n",
    "\n",
    "#### Description\n",
    "\n",
    "You are required to design and implement a system for managing books and users in a library. The system should allow for the management of books (adding, deleting, searching by various criteria) and users (registration, deletion, searching), as well as tracking the history of interactions between them (issuing and returning books).\n",
    "\n",
    "#### Tasks\n",
    "\n",
    "1. **`Book` Class**:\n",
    "   - Attributes: title, author, year of publication, ISBN, number of copies.\n",
    "   - Methods: constructor, methods to get information about the book, method to change the number of copies (when issuing and returning books).\n",
    "\n",
    "2. **`User` Class**:\n",
    "   - Attributes: user name, library card number, list of borrowed books.\n",
    "   - Methods: constructor, methods for user registration, methods for adding and removing books from the borrowed list.\n",
    "\n",
    "3. **`Library` Class**:\n",
    "   - Attributes: list of books, list of users, transaction history (who, when, which book was borrowed and returned).\n",
    "   - Methods: constructor, methods for adding and deleting books and users, methods for issuing and returning books, searching for books and users by various criteria, method to display the transaction history.\n",
    "\n",
    "#### Assignment\n",
    "\n",
    "1. Implement the `Book`, `User`, and `Library` classes with the specified attributes and methods.\n",
    "2. Create several books and users, and add them to the library system.\n",
    "3. Implement scenarios for issuing books to users and their return.\n",
    "4. Display the transaction history to show how books were issued and returned.\n"
   ]
  },
  {
   "cell_type": "code",
   "execution_count": 13,
   "metadata": {},
   "outputs": [
    {
     "name": "stdout",
     "output_type": "stream",
     "text": [
      "Владимир взял/а 'Игрок'\n",
      "Елена взял/а 'Хамелеон'\n",
      "Владимир вернул/а 'Игрок'\n"
     ]
    }
   ],
   "source": [
    "class Book:\n",
    "    def __init__(self, title, author, year, isbn, copies):\n",
    "        self.title = title\n",
    "        self.author = author\n",
    "        self.year = year\n",
    "        self.isbn = isbn\n",
    "        self.copies = copies\n",
    "\n",
    "    def get_info(self):\n",
    "        return f\"{self.title} by {self.author} ({self.year}) - ISBN: {self.isbn}, Copies: {self.copies}\"\n",
    "    \n",
    "    def change_copies(self, number):\n",
    "        self.copies += number\n",
    "\n",
    "class User:\n",
    "    def __init__(self, name, card_number):\n",
    "        self.name = name\n",
    "        self.card_number = card_number\n",
    "        self.borrowed_books = []\n",
    "    \n",
    "    def borrow_book(self, book):\n",
    "        if book.copies > 0:\n",
    "            book.change_copies(-1)\n",
    "            self.borrowed_books.append(book)\n",
    "            return True\n",
    "        return False\n",
    "    \n",
    "    def return_book(self, book):\n",
    "        if book in self.borrowed_books:\n",
    "            book.change_copies(1)\n",
    "            self.borrowed_books.remove(book)\n",
    "            return True\n",
    "        return False\n",
    "\n",
    "class Library:\n",
    "    def __init__(self):\n",
    "        self.books = []\n",
    "        self.users = []\n",
    "        self.transactions = []\n",
    "    \n",
    "    def add_book(self, book):\n",
    "        self.books.append(book)\n",
    "    \n",
    "    def delete_book(self, isbn):\n",
    "        self.books = [book for book in self.books if book.isbn != isbn]\n",
    "    \n",
    "    def add_user(self, user):\n",
    "        self.users.append(user)\n",
    "    \n",
    "    def delete_user(self, card_number):\n",
    "        self.users = [user for user in self.users if user.card_number != card_number]\n",
    "    \n",
    "    def search_books(self, keyword):\n",
    "        return [book.get_info() for book in self.books if keyword.lower() in book.title.lower() or keyword.lower() in book.author.lower()]\n",
    "    \n",
    "    def search_users(self, name):\n",
    "        return [user.name for user in self.users if name.lower() in user.name.lower()]\n",
    "    \n",
    "    def issue_book(self, card_number, isbn):\n",
    "        user = next((i for i in self.users if i.card_number == card_number), None)\n",
    "        book = next((j for j in self.books if j.isbn == isbn), None)\n",
    "        \n",
    "        if user and book and user.borrow_book(book):\n",
    "            self.transactions.append(f\"{user.name} взял/а '{book.title}'\")\n",
    "            return True\n",
    "        return False\n",
    "    \n",
    "    def return_book(self, card_number, isbn):\n",
    "        user = next((i for i in self.users if i.card_number == card_number), None)\n",
    "        book = next((j for j in self.books if j.isbn == isbn), None)\n",
    "        \n",
    "        if user and book and user.return_book(book):\n",
    "            self.transactions.append(f\"{user.name} вернул/а '{book.title}'\")\n",
    "            return True\n",
    "        return False\n",
    "    \n",
    "    def show_transactions(self):\n",
    "        return \"\\n\".join(self.transactions)\n",
    "\n",
    "# Example\n",
    "library = Library()\n",
    "\n",
    "# Adding Books\n",
    "book1 = Book(\"Игрок\", \"Фёдор Достоевский\", 1866, \"52\", 10)\n",
    "book2 = Book(\"Хамелеон\", \"Антон Чехов\", 1884, \"25\", 10)\n",
    "book3 = Book(\"Война и Мир\", \"Лев Толстой\", 1867, \"12\", 10)\n",
    "library.add_book(book1)\n",
    "library.add_book(book2)\n",
    "library.add_book(book3)\n",
    "\n",
    "# Adding Users\n",
    "user1 = User(\"Владимир\", \"001\")\n",
    "user2 = User(\"Елена\", \"002\")\n",
    "user3 = User(\"James\", \"007\")\n",
    "library.add_user(user1)\n",
    "library.add_user(user2)\n",
    "library.add_user(user3)\n",
    "\n",
    "# Issuing and Returning Books\n",
    "library.issue_book(\"001\", \"52\")\n",
    "library.issue_book(\"002\", \"25\")\n",
    "library.return_book(\"001\", \"52\")\n",
    "\n",
    "# Display Transactions\n",
    "print(library.show_transactions())\n"
   ]
  },
  {
   "cell_type": "markdown",
   "metadata": {},
   "source": [
    "## Problem 5*"
   ]
  },
  {
   "cell_type": "markdown",
   "metadata": {},
   "source": [
    "Explain why list `b` changes after the execution of the following code:\n",
    "\n",
    "```python\n",
    "a = [1, 2, 3]\n",
    "b = a\n",
    "a[0] = 4\n",
    "print(b)\n",
    "```"
   ]
  },
  {
   "cell_type": "markdown",
   "metadata": {},
   "source": [
    "\n",
    "> Write your answer in markdown cell after:\n",
    "a и b ссылаются на один и тот же список"
   ]
  },
  {
   "cell_type": "markdown",
   "metadata": {},
   "source": []
  },
  {
   "cell_type": "markdown",
   "metadata": {},
   "source": [
    "## Problem 6*"
   ]
  },
  {
   "cell_type": "markdown",
   "metadata": {},
   "source": [
    "Let\n",
    "$$A = \\sum_{i=1}^{10000} \\frac{1}{i^2},\\quad B=\\sum_{i=10000}^{1} \\frac{1}{i^2}.$$\n",
    "Calculate the values of $A$ and $B$ and compare them. What do you observe? Explain why this happens. What is the best way to calculate the value of $\\sum\\limits_{i=1}^{10000} \\dfrac{1}{i^2}$?"
   ]
  },
  {
   "cell_type": "code",
   "execution_count": 18,
   "metadata": {},
   "outputs": [
    {
     "name": "stdout",
     "output_type": "stream",
     "text": [
      "1.6448340718480652\n",
      "1.6448340718480596\n",
      "-5.551115123125783e-15\n"
     ]
    }
   ],
   "source": [
    "sum_1 = 0\n",
    "sum_2 = 0\n",
    "for i in range(1, 10001):\n",
    "    sum_1 += 1/pow(i,2)\n",
    "    sum_2 += 1/pow(10001-i, 2)\n",
    "print(sum_1)\n",
    "print(sum_2)\n",
    "print(sum_2 - sum_1)\n"
   ]
  },
  {
   "cell_type": "markdown",
   "metadata": {},
   "source": [
    "по-разному накапливаются \"маленькие части\", поэтому по-разному происходит округление. Кажется, самое точное округление с помощью decimal"
   ]
  }
 ],
 "metadata": {
  "kernelspec": {
   "display_name": "Python 3",
   "language": "python",
   "name": "python3"
  },
  "language_info": {
   "codemirror_mode": {
    "name": "ipython",
    "version": 3
   },
   "file_extension": ".py",
   "mimetype": "text/x-python",
   "name": "python",
   "nbconvert_exporter": "python",
   "pygments_lexer": "ipython3",
   "version": "3.10.5"
  }
 },
 "nbformat": 4,
 "nbformat_minor": 2
}
